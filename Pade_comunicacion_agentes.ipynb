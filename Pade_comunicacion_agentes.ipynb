{
  "cells": [
    {
      "cell_type": "markdown",
      "metadata": {
        "id": "view-in-github",
        "colab_type": "text"
      },
      "source": [
        "<a href=\"https://colab.research.google.com/github/Zelechos/Juegos-Tres-en-Raya/blob/main/Pade_comunicacion_agentes.ipynb\" target=\"_parent\"><img src=\"https://colab.research.google.com/assets/colab-badge.svg\" alt=\"Open In Colab\"/></a>"
      ]
    },
    {
      "cell_type": "code",
      "source": [
        "pip install pade"
      ],
      "metadata": {
        "id": "NVuzLk4EIfjw",
        "outputId": "d82c3711-03f8-48db-99e2-84d507e7081d",
        "colab": {
          "base_uri": "https://localhost:8080/"
        }
      },
      "execution_count": 1,
      "outputs": [
        {
          "output_type": "stream",
          "name": "stdout",
          "text": [
            "Looking in indexes: https://pypi.org/simple, https://us-python.pkg.dev/colab-wheels/public/simple/\n",
            "Collecting pade\n",
            "  Downloading pade-2.2.4-py3-none-any.whl (187 kB)\n",
            "\u001b[K     |████████████████████████████████| 187 kB 15.2 MB/s \n",
            "\u001b[?25hCollecting SQLAlchemy==1.3.15\n",
            "  Downloading SQLAlchemy-1.3.15.tar.gz (6.1 MB)\n",
            "\u001b[K     |████████████████████████████████| 6.1 MB 69.0 MB/s \n",
            "\u001b[?25h  Installing build dependencies ... \u001b[?25l\u001b[?25hdone\n",
            "  Getting requirements to build wheel ... \u001b[?25l\u001b[?25hdone\n",
            "    Preparing wheel metadata ... \u001b[?25l\u001b[?25hdone\n",
            "Collecting twisted==20.3.0\n",
            "  Downloading Twisted-20.3.0-cp37-cp37m-manylinux1_x86_64.whl (3.1 MB)\n",
            "\u001b[K     |████████████████████████████████| 3.1 MB 53.9 MB/s \n",
            "\u001b[?25hCollecting alchimia==0.8.1\n",
            "  Downloading alchimia-0.8.1-py2.py3-none-any.whl (6.5 kB)\n",
            "Collecting Flask-Script==2.0.6\n",
            "  Downloading Flask-Script-2.0.6.tar.gz (43 kB)\n",
            "\u001b[K     |████████████████████████████████| 43 kB 2.1 MB/s \n",
            "\u001b[?25hCollecting Flask==1.1.2\n",
            "  Downloading Flask-1.1.2-py2.py3-none-any.whl (94 kB)\n",
            "\u001b[K     |████████████████████████████████| 94 kB 4.0 MB/s \n",
            "\u001b[?25hCollecting Flask-Login==0.5.0\n",
            "  Downloading Flask_Login-0.5.0-py2.py3-none-any.whl (16 kB)\n",
            "Requirement already satisfied: requests==2.23.0 in /usr/local/lib/python3.7/dist-packages (from pade) (2.23.0)\n",
            "Collecting Flask-SQLAlchemy==2.4.1\n",
            "  Downloading Flask_SQLAlchemy-2.4.1-py2.py3-none-any.whl (17 kB)\n",
            "Collecting Flask-Migrate==2.5.3\n",
            "  Downloading Flask_Migrate-2.5.3-py2.py3-none-any.whl (13 kB)\n",
            "Collecting terminaltables==3.1.0\n",
            "  Downloading terminaltables-3.1.0.tar.gz (12 kB)\n",
            "Collecting Flask-Bootstrap==3.3.7.1\n",
            "  Downloading Flask-Bootstrap-3.3.7.1.tar.gz (456 kB)\n",
            "\u001b[K     |████████████████████████████████| 456 kB 65.1 MB/s \n",
            "\u001b[?25hRequirement already satisfied: click==7.1.2 in /usr/local/lib/python3.7/dist-packages (from pade) (7.1.2)\n",
            "Collecting Flask-WTF==0.14.3\n",
            "  Downloading Flask_WTF-0.14.3-py2.py3-none-any.whl (13 kB)\n",
            "Collecting pagan==0.4.3\n",
            "  Downloading pagan-0.4.3.tar.gz (21 kB)\n",
            "Requirement already satisfied: Werkzeug>=0.15 in /usr/local/lib/python3.7/dist-packages (from Flask==1.1.2->pade) (1.0.1)\n",
            "Requirement already satisfied: itsdangerous>=0.24 in /usr/local/lib/python3.7/dist-packages (from Flask==1.1.2->pade) (1.1.0)\n",
            "Requirement already satisfied: Jinja2>=2.10.1 in /usr/local/lib/python3.7/dist-packages (from Flask==1.1.2->pade) (2.11.3)\n",
            "Collecting dominate\n",
            "  Downloading dominate-2.7.0-py2.py3-none-any.whl (29 kB)\n",
            "Collecting visitor\n",
            "  Downloading visitor-0.1.3.tar.gz (3.3 kB)\n",
            "Collecting alembic>=0.7\n",
            "  Downloading alembic-1.8.1-py3-none-any.whl (209 kB)\n",
            "\u001b[K     |████████████████████████████████| 209 kB 70.3 MB/s \n",
            "\u001b[?25hCollecting WTForms\n",
            "  Downloading WTForms-3.0.1-py3-none-any.whl (136 kB)\n",
            "\u001b[K     |████████████████████████████████| 136 kB 75.5 MB/s \n",
            "\u001b[?25hRequirement already satisfied: Pillow>=2.3.0 in /usr/local/lib/python3.7/dist-packages (from pagan==0.4.3->pade) (7.1.2)\n",
            "Requirement already satisfied: urllib3!=1.25.0,!=1.25.1,<1.26,>=1.21.1 in /usr/local/lib/python3.7/dist-packages (from requests==2.23.0->pade) (1.24.3)\n",
            "Requirement already satisfied: certifi>=2017.4.17 in /usr/local/lib/python3.7/dist-packages (from requests==2.23.0->pade) (2022.9.24)\n",
            "Requirement already satisfied: idna<3,>=2.5 in /usr/local/lib/python3.7/dist-packages (from requests==2.23.0->pade) (2.10)\n",
            "Requirement already satisfied: chardet<4,>=3.0.2 in /usr/local/lib/python3.7/dist-packages (from requests==2.23.0->pade) (3.0.4)\n",
            "Collecting incremental>=16.10.1\n",
            "  Downloading incremental-22.10.0-py2.py3-none-any.whl (16 kB)\n",
            "Collecting Automat>=0.3.0\n",
            "  Downloading Automat-22.10.0-py2.py3-none-any.whl (26 kB)\n",
            "Requirement already satisfied: attrs>=19.2.0 in /usr/local/lib/python3.7/dist-packages (from twisted==20.3.0->pade) (22.1.0)\n",
            "Collecting PyHamcrest!=1.10.0,>=1.9.0\n",
            "  Downloading pyhamcrest-2.0.4-py3-none-any.whl (52 kB)\n",
            "\u001b[K     |████████████████████████████████| 52 kB 1.9 MB/s \n",
            "\u001b[?25hCollecting zope.interface>=4.4.2\n",
            "  Downloading zope.interface-5.5.1-cp37-cp37m-manylinux_2_5_x86_64.manylinux1_x86_64.manylinux_2_12_x86_64.manylinux2010_x86_64.whl (254 kB)\n",
            "\u001b[K     |████████████████████████████████| 254 kB 58.1 MB/s \n",
            "\u001b[?25hCollecting hyperlink>=17.1.1\n",
            "  Downloading hyperlink-21.0.0-py2.py3-none-any.whl (74 kB)\n",
            "\u001b[K     |████████████████████████████████| 74 kB 1.8 MB/s \n",
            "\u001b[?25hCollecting constantly>=15.1\n",
            "  Downloading constantly-15.1.0-py2.py3-none-any.whl (7.9 kB)\n",
            "Requirement already satisfied: importlib-metadata in /usr/local/lib/python3.7/dist-packages (from alembic>=0.7->Flask-Migrate==2.5.3->pade) (4.13.0)\n",
            "Requirement already satisfied: importlib-resources in /usr/local/lib/python3.7/dist-packages (from alembic>=0.7->Flask-Migrate==2.5.3->pade) (5.10.0)\n",
            "Collecting Mako\n",
            "  Downloading Mako-1.2.3-py3-none-any.whl (78 kB)\n",
            "\u001b[K     |████████████████████████████████| 78 kB 9.6 MB/s \n",
            "\u001b[?25hRequirement already satisfied: six in /usr/local/lib/python3.7/dist-packages (from Automat>=0.3.0->twisted==20.3.0->pade) (1.15.0)\n",
            "Requirement already satisfied: MarkupSafe>=0.23 in /usr/local/lib/python3.7/dist-packages (from Jinja2>=2.10.1->Flask==1.1.2->pade) (2.0.1)\n",
            "Requirement already satisfied: setuptools in /usr/local/lib/python3.7/dist-packages (from zope.interface>=4.4.2->twisted==20.3.0->pade) (57.4.0)\n",
            "Requirement already satisfied: typing-extensions>=3.6.4 in /usr/local/lib/python3.7/dist-packages (from importlib-metadata->alembic>=0.7->Flask-Migrate==2.5.3->pade) (4.1.1)\n",
            "Requirement already satisfied: zipp>=0.5 in /usr/local/lib/python3.7/dist-packages (from importlib-metadata->alembic>=0.7->Flask-Migrate==2.5.3->pade) (3.10.0)\n",
            "Building wheels for collected packages: Flask-Bootstrap, Flask-Script, pagan, SQLAlchemy, terminaltables, visitor\n",
            "  Building wheel for Flask-Bootstrap (setup.py) ... \u001b[?25l\u001b[?25hdone\n",
            "  Created wheel for Flask-Bootstrap: filename=Flask_Bootstrap-3.3.7.1-py3-none-any.whl size=460124 sha256=749c9bdce3b570b03220c93661dd7a0537c08bc0902a38f4ac83ef205d78eedb\n",
            "  Stored in directory: /root/.cache/pip/wheels/67/a2/d6/50d039c9b59b4caca6d7b53839c8100354a52ab7553d2456eb\n",
            "  Building wheel for Flask-Script (setup.py) ... \u001b[?25l\u001b[?25hdone\n",
            "  Created wheel for Flask-Script: filename=Flask_Script-2.0.6-py3-none-any.whl size=14030 sha256=30c7dba634f4fbd65a16b057b76643963774e1734cbfb4690823a967a388bc4a\n",
            "  Stored in directory: /root/.cache/pip/wheels/b5/fb/6b/01ea56e8a6486540ebe086676c8b3a823f1bbcc830df0cd4f0\n",
            "  Building wheel for pagan (setup.py) ... \u001b[?25l\u001b[?25hdone\n",
            "  Created wheel for pagan: filename=pagan-0.4.3-py3-none-any.whl size=23127 sha256=a3bd8c37dcf8f15ea53d9b4a3ccdcba070154a99d43d10c436853af0717c8181\n",
            "  Stored in directory: /root/.cache/pip/wheels/ef/ef/97/92850d32038f82758df12a6f3f0e9cc89eb2aa5631b6f1979b\n",
            "  Building wheel for SQLAlchemy (PEP 517) ... \u001b[?25l\u001b[?25hdone\n",
            "  Created wheel for SQLAlchemy: filename=SQLAlchemy-1.3.15-cp37-cp37m-linux_x86_64.whl size=1231322 sha256=042cdff7352b224f38a152126c6bb99c756be4873046135497204f79516352a6\n",
            "  Stored in directory: /root/.cache/pip/wheels/27/96/77/0695ac3b6ad6c91d607f9a19cfb45cdf416e5b564b77a64a9b\n",
            "  Building wheel for terminaltables (setup.py) ... \u001b[?25l\u001b[?25hdone\n",
            "  Created wheel for terminaltables: filename=terminaltables-3.1.0-py3-none-any.whl size=15354 sha256=75b3846737a47258f70dcbdadd6ff3648dc54cbd892e1b3a7a1095ac790d8a91\n",
            "  Stored in directory: /root/.cache/pip/wheels/ba/ad/c8/2d98360791161cd3db6daf6b5e730f34021fc9367d5879f497\n",
            "  Building wheel for visitor (setup.py) ... \u001b[?25l\u001b[?25hdone\n",
            "  Created wheel for visitor: filename=visitor-0.1.3-py3-none-any.whl size=3943 sha256=fd844cd0a1415d4bc10b5da1007d58810658da201b75c543950a9c3e59d75243\n",
            "  Stored in directory: /root/.cache/pip/wheels/64/34/11/053f47218984c9a31a00f911ed98dda036b867481dcc527a12\n",
            "Successfully built Flask-Bootstrap Flask-Script pagan SQLAlchemy terminaltables visitor\n",
            "Installing collected packages: zope.interface, SQLAlchemy, PyHamcrest, Mako, incremental, hyperlink, Flask, constantly, Automat, WTForms, visitor, twisted, Flask-SQLAlchemy, dominate, alembic, terminaltables, pagan, Flask-WTF, Flask-Script, Flask-Migrate, Flask-Login, Flask-Bootstrap, alchimia, pade\n",
            "  Attempting uninstall: SQLAlchemy\n",
            "    Found existing installation: SQLAlchemy 1.4.42\n",
            "    Uninstalling SQLAlchemy-1.4.42:\n",
            "      Successfully uninstalled SQLAlchemy-1.4.42\n",
            "  Attempting uninstall: Flask\n",
            "    Found existing installation: Flask 1.1.4\n",
            "    Uninstalling Flask-1.1.4:\n",
            "      Successfully uninstalled Flask-1.1.4\n",
            "Successfully installed Automat-22.10.0 Flask-1.1.2 Flask-Bootstrap-3.3.7.1 Flask-Login-0.5.0 Flask-Migrate-2.5.3 Flask-SQLAlchemy-2.4.1 Flask-Script-2.0.6 Flask-WTF-0.14.3 Mako-1.2.3 PyHamcrest-2.0.4 SQLAlchemy-1.3.15 WTForms-3.0.1 alchimia-0.8.1 alembic-1.8.1 constantly-15.1.0 dominate-2.7.0 hyperlink-21.0.0 incremental-22.10.0 pade-2.2.4 pagan-0.4.3 terminaltables-3.1.0 twisted-20.3.0 visitor-0.1.3 zope.interface-5.5.1\n"
          ]
        }
      ]
    },
    {
      "cell_type": "code",
      "source": [
        "# agent_example_1.py\n",
        "# A simple hello agent in PADE!\n",
        "\n",
        "from pade.misc.utility import display_message, start_loop\n",
        "from pade.core.agent import Agent\n",
        "from pade.acl.aid import AID\n",
        "from sys import argv\n",
        "\n",
        "class AgenteHelloWorld(Agent):\n",
        "    def __init__(self, aid):\n",
        "        super(AgenteHelloWorld, self).__init__(aid=aid)\n",
        "        display_message(self.aid.localname, 'Hello World!')\n",
        "\n",
        "\n",
        "if __name__ == '__main__':\n",
        "    agents_per_process = 3\n",
        "    c = 0\n",
        "    agents = list()\n",
        "    for i in range(agents_per_process):\n",
        "        port = c\n",
        "        agent_name = 'agent_hello_{}@localhost:{}'.format(port, port)\n",
        "        agente_hello = AgenteHelloWorld(AID(name=agent_name))\n",
        "        agents.append(agente_hello)\n",
        "        c += 1000\n",
        "\n",
        "    # start_loop(agents)"
      ],
      "metadata": {
        "id": "BwbKGqQ3I74J",
        "outputId": "bce55569-0ee6-4a8e-fbc6-db4a47427718",
        "colab": {
          "base_uri": "https://localhost:8080/"
        }
      },
      "execution_count": 10,
      "outputs": [
        {
          "output_type": "stream",
          "name": "stdout",
          "text": [
            "\u001b[32m[agent_hello_0] 09/11/2022 11:39:28.689 --> \u001b[0mHello World!\n",
            "\u001b[32m[agent_hello_1000] 09/11/2022 11:39:28.693 --> \u001b[0mHello World!\n",
            "\u001b[32m[agent_hello_2000] 09/11/2022 11:39:28.696 --> \u001b[0mHello World!\n"
          ]
        }
      ]
    },
    {
      "cell_type": "code",
      "source": [
        "from pade.acl.messages import ACLMessage, AID\n",
        "message = ACLMessage(ACLMessage.INFORM)\n",
        "message.set_protocol(ACLMessage.FIPA_REQUEST_PROTOCOL)\n",
        "message.add_receiver(AID('agente_destino'))\n",
        "message.set_content('HOLA AGENTES RECEPTOR!!')\n"
      ],
      "metadata": {
        "id": "cZohxJz5LTAO"
      },
      "execution_count": 24,
      "outputs": []
    },
    {
      "cell_type": "markdown",
      "source": [
        "FORMA DE ENVIAR MENSAJES"
      ],
      "metadata": {
        "id": "OC6q3lSaQMJQ"
      }
    },
    {
      "cell_type": "code",
      "source": [
        "class AgenteEnviador(Agent):\n",
        "    def __init__(self, aid):\n",
        "        super(AgenteEnviador, self).__init__(aid=aid)\n",
        "        display_message(self.aid.localname, message)\n",
        "\n",
        "myAgent = AgenteEnviador(AID(name=\"Emisor\"))"
      ],
      "metadata": {
        "id": "Tft-qCF3MH8R",
        "outputId": "afc15e76-352c-4834-8aac-7fd14f377588",
        "colab": {
          "base_uri": "https://localhost:8080/"
        }
      },
      "execution_count": 43,
      "outputs": [
        {
          "output_type": "stream",
          "name": "stdout",
          "text": [
            "\u001b[32m[Emisor] 09/11/2022 12:18:08.332 --> \u001b[0m(inform\n",
            ":conversationID 4a664db0-6025-11ed-8a1b-0242ac1c0002\n",
            ":receiver\n",
            " (set\n",
            "(agent-identifier\n",
            ":name agente_destino@localhost:52016\n",
            ":addresses \n",
            "(sequence\n",
            "localhost:52016\n",
            ")\n",
            ")\n",
            "\n",
            ")\n",
            ":content \"HOLA AGENTES RECEPTOR!!\"\n",
            ":protocol fipa-request protocol\n",
            ")\n",
            "\n"
          ]
        }
      ]
    },
    {
      "cell_type": "code",
      "source": [
        "from pade.misc.utility import display_message, start_loop, call_later\n",
        "from pade.core.agent import Agent\n",
        "from pade.acl.messages import ACLMessage\n",
        "from pade.acl.aid import AID\n",
        "from sys import argv\n",
        "\n",
        "\n",
        "class Remetente(Agent):\n",
        "    def __init__(self, aid):\n",
        "        super(Remetente, self).__init__(aid=aid, debug=False)\n",
        "\n",
        "    def on_start(self):\n",
        "        super(Remetente, self).on_start()\n",
        "        display_message(self.aid.localname, 'Enviando Mensagem...')\n",
        "        call_later(8.0, self.sending_message)\n",
        "\n",
        "    def sending_message(self):\n",
        "        message = ACLMessage(ACLMessage.INFORM)\n",
        "        message.add_receiver(AID('destinatario'))\n",
        "        message.set_content('Ola')\n",
        "        self.send(message)\n",
        "\n",
        "    def react(self, message):\n",
        "        super(Remetente, self).react(message)\n",
        "        display_message(self.aid.localname, 'Mensagem recebida from {}'.format(message.sender.name))\n",
        "\n",
        "\n",
        "class Destinatario(Agent):\n",
        "    def __init__(self, aid):\n",
        "        super(Destinatario, self).__init__(aid=aid, debug=False)\n",
        "\n",
        "    def react(self, message):\n",
        "        super(Destinatario, self).react(message)\n",
        "        display_message(self.aid.localname, 'Mensagem recebida from {}'.format(message.sender.name))\n",
        "\n",
        "\n",
        "# if __name__ == '__main__':\n",
        "\n",
        "    # agents = list()\n",
        "port = 3000\n",
        "destinatario_agent = Destinatario(AID(name='destinatario@localhost:{}'.format(port)))\n",
        "\n",
        "port += 1\n",
        "remetente_agent = Remetente(AID(name='remetente@localhost:{}'.format(port)))\n",
        "    \n",
        "\n",
        "    # start_loop(agents)"
      ],
      "metadata": {
        "id": "ImNtsy_aP2-0"
      },
      "execution_count": 38,
      "outputs": []
    }
  ],
  "metadata": {
    "colab": {
      "collapsed_sections": [],
      "name": "Te damos la bienvenida a Colaboratory",
      "provenance": [],
      "include_colab_link": true
    },
    "kernelspec": {
      "display_name": "Python 3",
      "name": "python3"
    },
    "accelerator": "GPU",
    "gpuClass": "standard"
  },
  "nbformat": 4,
  "nbformat_minor": 0
}